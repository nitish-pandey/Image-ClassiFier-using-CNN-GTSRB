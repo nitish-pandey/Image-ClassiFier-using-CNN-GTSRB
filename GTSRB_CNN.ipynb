{
  "nbformat": 4,
  "nbformat_minor": 0,
  "metadata": {
    "colab": {
      "name": "GTSRB-CNN.ipynb",
      "provenance": [],
      "mount_file_id": "11Cn4qAPuEzEi9kr7KrGe-IJJT-T9OXbm",
      "authorship_tag": "ABX9TyNuCyAmPcLJZ1yypybHXm3x",
      "include_colab_link": true
    },
    "kernelspec": {
      "display_name": "Python 3",
      "name": "python3"
    },
    "language_info": {
      "name": "python"
    },
    "accelerator": "TPU"
  },
  "cells": [
    {
      "cell_type": "markdown",
      "metadata": {
        "id": "view-in-github",
        "colab_type": "text"
      },
      "source": [
        "<a href=\"https://colab.research.google.com/github/nitish-pandey/Image-ClassiFier-using-CNN--Cat-vs-Dog-/blob/main/GTSRB_CNN.ipynb\" target=\"_parent\"><img src=\"https://colab.research.google.com/assets/colab-badge.svg\" alt=\"Open In Colab\"/></a>"
      ]
    },
    {
      "cell_type": "markdown",
      "metadata": {
        "id": "oB91LdFJevS2"
      },
      "source": [
        "## Imports"
      ]
    },
    {
      "cell_type": "code",
      "metadata": {
        "id": "xSk-ggEg84vR"
      },
      "source": [
        "import pandas as pd\n",
        "import numpy as np\n",
        "import matplotlib.pyplot as plt\n",
        "import seaborn as sns\n",
        "import glob\n",
        "import random\n",
        "import os "
      ],
      "execution_count": 1,
      "outputs": []
    },
    {
      "cell_type": "code",
      "metadata": {
        "id": "OBY7Wlkx84ry"
      },
      "source": [
        "import tensorflow as tf\n",
        "from tensorflow import keras\n",
        "from keras import backend as k\n",
        "\n",
        "from keras.models import Sequential\n",
        "from keras.layers import Dense ,Conv2D,MaxPool2D, Dropout,Activation,BatchNormalization,Flatten\n",
        "from keras.callbacks import EarlyStopping\n",
        "from keras.regularizers import l2\n",
        "\n",
        "from keras.preprocessing.image import ImageDataGenerator\n"
      ],
      "execution_count": 2,
      "outputs": []
    },
    {
      "cell_type": "code",
      "metadata": {
        "id": "fFeZtG6D84p7"
      },
      "source": [
        "from sklearn.model_selection import train_test_split\n",
        "from sklearn.metrics import confusion_matrix,classification_report"
      ],
      "execution_count": 3,
      "outputs": []
    },
    {
      "cell_type": "markdown",
      "metadata": {
        "id": "7oFK0EH9ez2U"
      },
      "source": [
        "## Data Download and preprocessing "
      ]
    },
    {
      "cell_type": "markdown",
      "metadata": {
        "id": "LVwdKjvVe7mM"
      },
      "source": [
        "Here , the data is downloaded directly from the url in zip format"
      ]
    },
    {
      "cell_type": "code",
      "metadata": {
        "id": "FRamv-k1GUyn",
        "colab": {
          "base_uri": "https://localhost:8080/"
        },
        "outputId": "d34c8a73-f3f4-4cdd-e5cf-dc52fa972028"
      },
      "source": [
        "#Images for training\n",
        "!curl -LOC - https://sid.erda.dk/public/archives/daaeac0d7ce1152aea9b61d9f1e19370/GTSRB_Final_Training_Images.zip\n",
        "#Images for validation    \n",
        "!curl -LOC - https://sid.erda.dk/public/archives/daaeac0d7ce1152aea9b61d9f1e19370/GTSRB_Final_Test_Images.zip\n",
        "#Labels for validation\n",
        "!curl -LOC - https://sid.erda.dk/public/archives/daaeac0d7ce1152aea9b61d9f1e19370/GTSRB_Final_Test_GT.zip"
      ],
      "execution_count": 4,
      "outputs": [
        {
          "output_type": "stream",
          "name": "stdout",
          "text": [
            "  % Total    % Received % Xferd  Average Speed   Time    Time     Time  Current\n",
            "                                 Dload  Upload   Total   Spent    Left  Speed\n",
            "100  263M  100  263M    0     0  19.4M      0  0:00:13  0:00:13 --:--:-- 23.6M\n",
            "  % Total    % Received % Xferd  Average Speed   Time    Time     Time  Current\n",
            "                                 Dload  Upload   Total   Spent    Left  Speed\n",
            "100 84.8M  100 84.8M    0     0  15.3M      0  0:00:05  0:00:05 --:--:-- 19.6M\n",
            "  % Total    % Received % Xferd  Average Speed   Time    Time     Time  Current\n",
            "                                 Dload  Upload   Total   Spent    Left  Speed\n",
            "100 99620  100 99620    0     0  90728      0  0:00:01  0:00:01 --:--:-- 90728\n"
          ]
        }
      ]
    },
    {
      "cell_type": "markdown",
      "metadata": {
        "id": "KmvLuakLfFzr"
      },
      "source": [
        "Unzipping the data"
      ]
    },
    {
      "cell_type": "code",
      "metadata": {
        "colab": {
          "base_uri": "https://localhost:8080/"
        },
        "id": "0NG1ACifXOfz",
        "outputId": "739732a2-1f65-4932-cdb0-07d16e76f901"
      },
      "source": [
        "!unzip '/content/GTSRB_Final_Test_GT.zip'\n",
        "!unzip '/content/GTSRB_Final_Test_Images.zip'\n",
        "!unzip '/content/GTSRB_Final_Training_Images.zip'"
      ],
      "execution_count": 5,
      "outputs": [
        {
          "output_type": "stream",
          "name": "stdout",
          "text": [
            "\u001b[1;30;43mStreaming output truncated to the last 5000 lines.\u001b[0m\n",
           
            
            "  inflating: GTSRB/Final_Training/Images/00038/00005_00007.ppm  \n",
            "  inflating: GTSRB/Final_Training/Images/00038/00005_00008.ppm  \n",
            "  inflating: GTSRB/Final_Training/Images/00038/00005_00009.ppm  \n",
            "  inflating: GTSRB/Final_Training/Images/00038/00005_00010.ppm  \n",
            "  inflating: GTSRB/Final_Training/Images/00038/00005_00011.ppm  \n",
            "  inflating: GTSRB/Final_Training/Images/00038/00005_00012.ppm  \n",
            "  inflating: GTSRB/Final_Training/Images/00038/00005_00013.ppm  \n",
            "  inflating: GTSRB/Final_Training/Images/00038/00005_00014.ppm  \n",
            "  inflating: GTSRB/Final_Training/Images/00038/00005_00015.ppm  \n",
            "  inflating: GTSRB/Final_Training/Images/00038/00005_00016.ppm  \n",
            "  inflating: GTSRB/Final_Training/Images/00038/00005_00017.ppm  \n",
            "  inflating: GTSRB/Final_Training/Images/00038/00005_00018.ppm  \n",
            "  inflating: GTSRB/Final_Training/Images/00038/00005_00019.ppm  \n",
            "  inflating: GTSRB/Final_Training/Images/00038/00005_00020.ppm  \n",
            "  inflating: GTSRB/Final_Training/Images/00038/00005_00021.ppm  \n",
            "  inflating: GTSRB/Final_Training/Images/00038/00005_00022.ppm  \n",
            "  inflating: GTSRB/Final_Training/Images/00038/00005_00023.ppm  \n",
            "  inflating: GTSRB/Final_Training/Images/00038/00005_00024.ppm  \n",
            "  inflating: GTSRB/Final_Training/Images/00038/00005_00025.ppm  \n",
            "  inflating: GTSRB/Final_Training/Images/00038/00005_00026.ppm  \n",
            "  inflating: GTSRB/Final_Training/Images/00038/00005_00027.ppm  \n",
            "  inflating: GTSRB/Final_Training/Images/00038/00005_00028.ppm  \n",
            "  inflating: GTSRB/Final_Training/Images/00038/00005_00029.ppm  \n",
            "  inflating: GTSRB/Final_Training/Images/00038/00006_00000.ppm  \n",
            "  inflating: GTSRB/Final_Training/Images/00038/00006_00001.ppm  \n",
            "  inflating: GTSRB/Final_Training/Images/00038/00006_00002.ppm  \n",
            "  inflating: GTSRB/Final_Training/Images/00038/00006_00003.ppm  \n",
            "  inflating: GTSRB/Final_Training/Images/00038/00006_00004.ppm  \n",
            "  inflating: GTSRB/Final_Training/Images/00038/00006_00005.ppm  \n",
            "  inflating: GTSRB/Final_Training/Images/00038/00006_00006.ppm  \n",
            "  inflating: GTSRB/Final_Training/Images/00038/00006_00007.ppm  \n",
            "  inflating: GTSRB/Final_Training/Images/00038/00006_00008.ppm  \n",
            "  inflating: GTSRB/Final_Training/Images/00038/00006_00009.ppm  \n",
            "  inflating: GTSRB/Final_Training/Images/00038/00006_00010.ppm  \n",
            "  inflating: GTSRB/Final_Training/Images/00038/00006_00011.ppm  \n",
            "  inflating: GTSRB/Final_Training/Images/00038/00006_00012.ppm  \n",
            "  inflating: GTSRB/Final_Training/Images/00038/00006_00013.ppm  \n",
            "  inflating: GTSRB/Final_Training/Images/00038/00006_00014.ppm  \n",
           
          
            "  inflating: GTSRB/Final_Training/Images/00042/GT-00042.csv  \n",
            "  inflating: GTSRB/Readme-Images.txt  \n"
          ]
        }
      ]
    },
    {
      "cell_type": "code",
      "metadata": {
        "id": "NVvqj5IpXfVC"
      },
      "source": [
        "training_directory='/content/GTSRB/Final_Training/Images'\n",
        "test_directory='/content/GTSRB/Final_Test/Images'"
      ],
      "execution_count": 6,
      "outputs": []
    },
    {
      "cell_type": "code",
      "metadata": {
        "id": "SNjo6Eyi9Kk_"
      },
      "source": [
        "train_generator=ImageDataGenerator(\n",
        "    rescale=1./255,\n",
        "    zoom_range=0.1,\n",
        "    shear_range=0.1,\n",
        "    validation_split=0.3\n",
        ")\n",
        "test_generator=ImageDataGenerator(rescale=1./255)"
      ],
      "execution_count": 7,
      "outputs": []
    },
    {
      "cell_type": "code",
      "metadata": {
        "colab": {
          "base_uri": "https://localhost:8080/"
        },
        "id": "Z6sEZ-MlDeV-",
        "outputId": "eb77daef-e07b-4e7f-b4ff-2277cad1c50e"
      },
      "source": [
        "training_data=train_generator.flow_from_directory(\n",
        "    training_directory,\n",
        "    target_size=(64,64),\n",
        "    color_mode='rgb',\n",
        "    class_mode='categorical',\n",
        "    subset='training'\n",
        ")\n",
        "\n",
        "validation_data=train_generator.flow_from_directory(\n",
        "    training_directory,\n",
        "    target_size=(64,64),\n",
        "    color_mode='rgb',\n",
        "    class_mode='categorical',\n",
        "    subset='validation'\n",
        ")\n"
      ],
      "execution_count": 8,
      "outputs": [
        {
          "output_type": "stream",
          "name": "stdout",
          "text": [
            "Found 27447 images belonging to 43 classes.\n",
            "Found 11762 images belonging to 43 classes.\n"
          ]
        }
      ]
    },
    {
      "cell_type": "markdown",
      "metadata": {
        "id": "rDRqoEt7fL8m"
      },
      "source": [
        "## Model Building and Training"
      ]
    },
    {
      "cell_type": "code",
      "metadata": {
        "id": "4n6vpf5cEeWy",
        "colab": {
          "base_uri": "https://localhost:8080/"
        },
        "outputId": "cf7c0c61-9471-4723-f5ee-a5f1262ec372"
      },
      "source": [
        "model=Sequential()\n",
        "\n",
        "# 1st convolution layer\n",
        "model.add(Conv2D(64,kernel_size=(3,3),activation='relu',input_shape=(64,64,3),kernel_regularizer=l2(0.001)))\n",
        "model.add(MaxPool2D(pool_size=(2,2)))\n",
        "\n",
        "\n",
        "# 2nd convolution layer\n",
        "model.add(Conv2D(16,kernel_size=(5,5),activation='relu',kernel_regularizer=l2(0.001)))\n",
        "model.add(MaxPool2D(pool_size=(2,2)))\n",
        "\n",
        "\n",
        "# 3rd convolution layer\n",
        "model.add(Conv2D(32,kernel_size=(3,3),activation='relu',kernel_regularizer=l2(0.001)))\n",
        "model.add(MaxPool2D(pool_size=(2,2)))\n",
        "model.add(BatchNormalization())\n",
        "\n",
        "\n",
        "# Fully connected layer\n",
        "model.add(Flatten())\n",
        "\n",
        "model.add(Dense(units=256,activation='relu',kernel_regularizer=l2(0.001)))\n",
        "model.add(Dropout(0.5))\n",
        "model.add(BatchNormalization())\n",
        "\n",
        "# Output layer\n",
        "model.add(Dense(units=43,activation='sigmoid'))\n",
        "\n",
        "model.summary()"
      ],
      "execution_count": 12,
      "outputs": [
        {
          "output_type": "stream",
          "name": "stdout",
          "text": [
            "Model: \"sequential_1\"\n",
            "_________________________________________________________________\n",
            "Layer (type)                 Output Shape              Param #   \n",
            "=================================================================\n",
            "conv2d_3 (Conv2D)            (None, 62, 62, 64)        1792      \n",
            "_________________________________________________________________\n",
            "max_pooling2d_3 (MaxPooling2 (None, 31, 31, 64)        0         \n",
            "_________________________________________________________________\n",
            "conv2d_4 (Conv2D)            (None, 27, 27, 16)        25616     \n",
            "_________________________________________________________________\n",
            "max_pooling2d_4 (MaxPooling2 (None, 13, 13, 16)        0         \n",
            "_________________________________________________________________\n",
            "conv2d_5 (Conv2D)            (None, 11, 11, 32)        4640      \n",
            "_________________________________________________________________\n",
            "max_pooling2d_5 (MaxPooling2 (None, 5, 5, 32)          0         \n",
            "_________________________________________________________________\n",
            "batch_normalization_2 (Batch (None, 5, 5, 32)          128       \n",
            "_________________________________________________________________\n",
            "flatten_1 (Flatten)          (None, 800)               0         \n",
            "_________________________________________________________________\n",
            "dense_2 (Dense)              (None, 256)               205056    \n",
            "_________________________________________________________________\n",
            "dropout_1 (Dropout)          (None, 256)               0         \n",
            "_________________________________________________________________\n",
            "batch_normalization_3 (Batch (None, 256)               1024      \n",
            "_________________________________________________________________\n",
            "dense_3 (Dense)              (None, 43)                11051     \n",
            "=================================================================\n",
            "Total params: 249,307\n",
            "Trainable params: 248,731\n",
            "Non-trainable params: 576\n",
            "_________________________________________________________________\n"
          ]
        }
      ]
    },
    {
      "cell_type": "code",
      "metadata": {
        "id": "NbQ1eKLpEeUx"
      },
      "source": [
        "model.compile(optimizer='adam',loss='categorical_crossentropy',metrics=['accuracy'])\n",
        "earlystop=EarlyStopping(patience=5)"
      ],
      "execution_count": 13,
      "outputs": []
    },
    {
      "cell_type": "code",
      "metadata": {
        "colab": {
          "base_uri": "https://localhost:8080/"
        },
        "id": "XqkH38qQF4V4",
        "outputId": "58528630-3499-4e08-d0cf-f69f73829260"
      },
      "source": [
        "model.fit(training_data,\n",
        "          validation_data=validation_data,\n",
        "          epochs=15,\n",
        "          callbacks=[earlystop],\n",
        "          steps_per_epoch=100\n",
        "          )"
      ],
      "execution_count": 14,
      "outputs": [
        {
          "output_type": "stream",
          "name": "stdout",
          "text": [
            "Epoch 1/15\n",
            "100/100 [==============================] - 72s 719ms/step - loss: 3.4291 - accuracy: 0.2438 - val_loss: 3.8622 - val_accuracy: 0.1412\n",
            "Epoch 2/15\n",
            "100/100 [==============================] - 71s 717ms/step - loss: 2.0203 - accuracy: 0.5441 - val_loss: 3.4411 - val_accuracy: 0.3074\n",
            "Epoch 3/15\n",
            "100/100 [==============================] - 72s 722ms/step - loss: 1.3578 - accuracy: 0.7197 - val_loss: 3.0373 - val_accuracy: 0.4879\n",
            "Epoch 4/15\n",
            "100/100 [==============================] - 71s 715ms/step - loss: 1.0030 - accuracy: 0.8203 - val_loss: 2.3525 - val_accuracy: 0.7366\n",
            "Epoch 5/15\n",
            "100/100 [==============================] - 71s 716ms/step - loss: 0.8270 - accuracy: 0.8700 - val_loss: 1.6617 - val_accuracy: 0.7841\n",
            "Epoch 6/15\n",
            "100/100 [==============================] - 71s 716ms/step - loss: 0.6850 - accuracy: 0.9044 - val_loss: 0.9042 - val_accuracy: 0.8942\n",
            "Epoch 7/15\n",
            "100/100 [==============================] - 71s 718ms/step - loss: 0.6088 - accuracy: 0.9231 - val_loss: 0.8043 - val_accuracy: 0.8771\n",
            "Epoch 8/15\n",
            "100/100 [==============================] - 72s 719ms/step - loss: 0.5709 - accuracy: 0.9325 - val_loss: 0.6120 - val_accuracy: 0.9247\n",
            "Epoch 9/15\n",
            "100/100 [==============================] - 71s 718ms/step - loss: 0.5299 - accuracy: 0.9381 - val_loss: 0.6135 - val_accuracy: 0.9115\n",
            "Epoch 10/15\n",
            "100/100 [==============================] - 71s 717ms/step - loss: 0.4900 - accuracy: 0.9491 - val_loss: 0.5559 - val_accuracy: 0.9276\n",
            "Epoch 11/15\n",
            "100/100 [==============================] - 71s 716ms/step - loss: 0.4536 - accuracy: 0.9522 - val_loss: 0.5493 - val_accuracy: 0.9218\n",
            "Epoch 12/15\n",
            "100/100 [==============================] - 71s 715ms/step - loss: 0.4378 - accuracy: 0.9578 - val_loss: 0.5594 - val_accuracy: 0.9156\n",
            "Epoch 13/15\n",
            "100/100 [==============================] - 71s 714ms/step - loss: 0.4082 - accuracy: 0.9634 - val_loss: 0.4974 - val_accuracy: 0.9329\n",
            "Epoch 14/15\n",
            "100/100 [==============================] - 71s 715ms/step - loss: 0.4103 - accuracy: 0.9613 - val_loss: 0.5157 - val_accuracy: 0.9244\n",
            "Epoch 15/15\n",
            "100/100 [==============================] - 71s 715ms/step - loss: 0.4033 - accuracy: 0.9550 - val_loss: 0.5471 - val_accuracy: 0.9100\n"
          ]
        },
        {
          "output_type": "execute_result",
          "data": {
            "text/plain": [
              "<keras.callbacks.History at 0x7f71f0bd6d50>"
            ]
          },
          "metadata": {},
          "execution_count": 14
        }
      ]
    },
    {
      "cell_type": "markdown",
      "metadata": {
        "id": "kWNaZvZSyGKp"
      },
      "source": [
        "### Visualizing the training preformance"
      ]
    },
    {
      "cell_type": "code",
      "metadata": {
        "id": "n2zVYvmXX9Xh",
        "colab": {
          "base_uri": "https://localhost:8080/",
          "height": 404
        },
        "outputId": "ae50e790-5c80-46d3-8b25-c8a8a583c35b"
      },
      "source": [
        "model_log=model.history\n",
        "acc=model_log.history['accuracy']\n",
        "val_acc=model_log.history['val_accuracy']\n",
        "loss=model_log.history['loss']\n",
        "val_loss=model_log.history['val_loss']\n",
        "epochs=range(1,len(acc)+1)\n",
        "\n",
        "plt.figure(figsize=(10,6))\n",
        "plt.subplot(1,2,1)\n",
        "plt.plot(epochs,acc,label='Training Accuracy ',color='r')\n",
        "plt.plot(epochs,val_acc,label='Validation Accuracy',color='b')\n",
        "plt.xlabel('Epochs ---->>')\n",
        "plt.ylabel('Accuracy ---->>')\n",
        "plt.legend(['Train','Validation'])\n",
        "plt.title(\"Training v/s Validation Accuracy\")\n",
        "\n",
        "plt.subplot(1,2,2)\n",
        "plt.plot(epochs,loss,label='Training Loss ',color='r')\n",
        "plt.plot(epochs,val_loss,label='Validation Loss',color='b')\n",
        "plt.xlabel('Epochs ---->> ')\n",
        "plt.ylabel('Loss ---->> ')\n",
        "plt.legend(['Train','Validation'])\n",
        "plt.title(\"Training v/s Validation Loss\")\n",
        "plt.show()\n",
        "\n",
        "\n",
        "plt.show()"
      ],
      "execution_count": 19,
      "outputs": [
        {
          "output_type": "display_data",
          "data": {
            "image/png": "[encoded data removed]",
            "text/plain": [
              "<Figure size 720x432 with 2 Axes>"
            ]
          },
          "metadata": {
            "needs_background": "light"
          }
        }
      ]
    },
    {
      "cell_type": "markdown",
      "metadata": {
        "id": "jnJ2Yi5oyM0C"
      },
      "source": [
        "### Model Saving"
      ]
    },
    {
      "cell_type": "code",
      "metadata": {
        "id": "WoHxKAtgyPPS"
      },
      "source": [
        "model.save('my_model.h5')"
      ],
      "execution_count": 22,
      "outputs": []
    },
    {
      "cell_type": "code",
      "metadata": {
        "id": "c5BKe9Jwz9dn"
      },
      "source": [
        "model.save_weights('model_weights.h5')"
      ],
      "execution_count": 23,
      "outputs": []
    }
  ]
}
